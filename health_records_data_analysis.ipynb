{
  "cells": [
    {
      "cell_type": "markdown",
      "metadata": {
        "id": "YCVSSfCB7MA5"
      },
      "source": [
        "# Introduction to Data Analysis with Pandas\n",
        "\n",
        "## Introduction\n",
        "This tutorial introduces you to data analysis using Pandas. You will learn how to load a dataset, perform basic data exploration, calculate statistics, and more using Pandas.\n",
        "\n",
        "## Setup\n",
        "Before getting started, ensure that you have Pandas and Pyarrow installed. You can install it using pip:"
      ]
    },
    {
      "cell_type": "code",
      "execution_count": null,
      "metadata": {
        "id": "MPvihEoH7dzA"
      },
      "outputs": [],
      "source": [
        "!pip install pyarrow pandas"
      ]
    },
    {
      "cell_type": "markdown",
      "metadata": {
        "id": "lWcqphrE7oeo"
      },
      "source": [
        "You also need to fetch the data you want to analyse. For this tutorial, we have placed the data into this project at `health_records.csv` for you.\n",
        "\n",
        "Try to get a feeling for the data by opening the file tree and double-clicking the respective file to view and browse the data in Colab."
      ]
    },
    {
      "cell_type": "markdown",
      "metadata": {
        "id": "ck_0CDCK8gTz"
      },
      "source": [
        "# Step-by-Step Tutorial\n",
        "##Step 1: Load the dataset into a Pandas DataFrame\n",
        "\n",
        "We start by loading the dataset into a Pandas DataFrame. This allows us to work with the data in a tabular format similar to a spreadsheet.\n",
        "\n",
        "* Use pandas' [`read_cs()`](https://pandas.pydata.org/pandas-docs/stable/reference/api/pandas.read_csv.html) method. It is a method provided by Pandas to read data from a CSV file and create a DataFrame. It takes the file path as an argument and returns a DataFrame containing the data from the CSV file.  method for this."
      ]
    },
    {
      "cell_type": "code",
      "execution_count": 13,
      "metadata": {
        "id": "uyt_LTZx8wZk"
      },
      "outputs": [],
      "source": [
        "import pandas as pd\n",
        "\n",
        "# Use pandas read_csv method to read in your CSV file.\n",
        "df = pd.read_csv('health_records.csv')"
      ]
    },
    {
      "cell_type": "markdown",
      "metadata": {
        "id": "AEU6VH87_Gng"
      },
      "source": [
        "## Step 2: Display the first 10 rows of the dataset\n",
        "Let's take a quick look at the first few rows of the dataset to get an idea of what it looks like.\n",
        "\n",
        "* Use the [`DataFrame.head()`](https://pandas.pydata.org/pandas-docs/stable/reference/api/pandas.DataFrame.head.html) method of the DataFrame object you just created for this purpose."
      ]
    },
    {
      "cell_type": "code",
      "execution_count": null,
      "metadata": {
        "id": "59qxfTD1DepM"
      },
      "outputs": [],
      "source": [
        "df_head_10 = #...\n",
        "print(\"First 10 rows of the dataset:\")\n",
        "print(df_head_10)"
      ]
    },
    {
      "cell_type": "markdown",
      "metadata": {
        "id": "RO6ng87hEoee"
      },
      "source": [
        "## Step 3: Calculate and display statistics for the 'Age' column\n",
        "\n",
        "Now, let's calculate some basic statistics for the 'Age' column, such as the mean, median, and standard deviation. You can get the age column of the CSV data by indexing the DataFrame object with the column name as a string, i.e. `df['Age']`, and calculate some basic statistics using [predefined methods](https://pandas.pydata.org/pandas-docs/stable/reference/frame.html#computations-descriptive-stats).\n",
        "\n",
        "**Explanation:** `df['Age'].mean()` calculates the mean (average) of the 'Age' column. Similarly, `df['Age'].median()` calculates the median (middle value), and `df['Age'].std()` calculates the standard deviation of the 'Age' column."
      ]
    },
    {
      "cell_type": "code",
      "execution_count": null,
      "metadata": {
        "id": "TXdNIjr-E1th"
      },
      "outputs": [],
      "source": [
        "mean_age = #...\n",
        "median_age = #...\n",
        "std_age = #...\n",
        "\n",
        "print(\"\\nStatistics for Age:\")\n",
        "print(f\"Mean Age: {mean_age:.2f}\")\n",
        "print(f\"Median Age: {median_age}\")\n",
        "print(f\"Standard Deviation of Age: {std_age:.2f}\")"
      ]
    },
    {
      "cell_type": "markdown",
      "metadata": {
        "id": "-kI9bPFbGux3"
      },
      "source": [
        "## Step 4: Count and display the number of male and female patients\n",
        "\n",
        "Next, let's count the number of male and female patients in the dataset to understand the gender distribution. We will use the [`DataFrame.value_counts()`](https://pandas.pydata.org/pandas-docs/stable/reference/api/pandas.DataFrame.value_counts.html#pandas.DataFrame.value_counts) method for this, which counts the occurrences of unique values in a column. It's useful for understanding the distribution of categorical data."
      ]
    },
    {
      "cell_type": "code",
      "execution_count": null,
      "metadata": {
        "id": "Om3jDAo0HTBT"
      },
      "outputs": [],
      "source": [
        "gender_counts = #...\n",
        "\n",
        "print(\"\\nGender Distribution:\")\n",
        "print(\"Male:\", gender_counts['Male'])\n",
        "print(\"Female:\", gender_counts['Female'])"
      ]
    },
    {
      "cell_type": "markdown",
      "metadata": {
        "id": "SN2qkl_GHiax"
      },
      "source": [
        "## Step 5: Calculate and display the average blood pressure for patients with and without heart conditions\n",
        "\n",
        "We'll now calculate the average blood pressure for patients with and without heart conditions to see if there's any difference. For this, we will filter the DataFrame object using a syntax that's called boolean indexing on the `'Heart Condition'` column.\n",
        "\n",
        "* For example, `df[df['Heart Condition'] == 'Yes']` filters the DataFrame to include only rows where the condition `df['Heart Condition'] == 'Yes'` is true, i.e. where the 'Heart Condition' column is 'Yes'."
      ]
    },
    {
      "cell_type": "code",
      "execution_count": null,
      "metadata": {
        "id": "ZI5F-d7FHmiF"
      },
      "outputs": [],
      "source": [
        "patients_with_heart_condition = df['Heart Condition'] == 'Yes'\n",
        "patients_without_heart_condition = #...\n",
        "avg_bp_heart_condition = #...\n",
        "avg_bp_no_heart_condition = #...\n",
        "\n",
        "print(\"\\nAverage Blood Pressure:\")\n",
        "print(\"Patients with Heart Condition:\", avg_bp_heart_condition)\n",
        "print(\"Patients without Heart Condition:\", avg_bp_no_heart_condition)"
      ]
    },
    {
      "cell_type": "markdown",
      "metadata": {
        "id": "S34sWlrZJAQa"
      },
      "source": [
        "## Step 6: Create a new DataFrame for patients with high cholesterol and high blood pressure\n",
        "\n",
        "Let's identify patients with high cholesterol and high blood pressure, as they may be at higher risk. For this, we must build a complex condition that will filter for rows where the 'Cholesterol' column is greater than 200 and either the 'Systolic BP' column is greater than 140 or the 'Diastolic BP' column is greater than 90. We can do this using the unary or binary bitwise operators\n",
        "* `&` (and),\n",
        "* `|` (or, inclusive or),\n",
        "* `~` (not),\n",
        "* `^` (xor, exclusive or).\n",
        "\n",
        "For example, the following expression will filter the data for all males which are older than 50:\n",
        "```python\n",
        "df[(df['Gender'] == 'Male') & (df['Age'] > 50)]\n",
        "```"
      ]
    },
    {
      "cell_type": "markdown",
      "metadata": {
        "id": "yaKGZJ3FNtlq"
      },
      "source": [
        "Now let's identify the high risk patients with high cholesterol and high blood pressure as described above."
      ]
    },
    {
      "cell_type": "code",
      "execution_count": null,
      "metadata": {
        "id": "YvdKylIvNGMM"
      },
      "outputs": [],
      "source": [
        "patients_with_high_colesterol = df['Cholesterol'] > 200\n",
        "patients_with_high_systolic_bp = #...\n",
        "patients_with_high_diastolic_bp = #...\n",
        "high_risk_patients = #...\n",
        "\n",
        "print(high_risk_patients.head(10))"
      ]
    },
    {
      "cell_type": "markdown",
      "metadata": {
        "id": "D63uY8mjPyaa"
      },
      "source": [
        "We can see that most high risk patients seem to be older than 50. You can verify this by computing the average age of all high risk patients."
      ]
    },
    {
      "cell_type": "code",
      "execution_count": null,
      "metadata": {
        "id": "aQd6nqEpQNOY"
      },
      "outputs": [],
      "source": [
        "print(\"The average age of high risk patients:\")\n",
        "print() #..."
      ]
    },
    {
      "cell_type": "markdown",
      "metadata": {
        "id": "Nmku9nnGN36I"
      },
      "source": [
        "## Step 7: Calculate and display the percentage of patients with both high cholesterol and high blood pressure\n",
        "\n",
        "We'll calculate the percentage of patients with both high cholesterol and high blood pressure to understand the prevalence of this risk factor. To do this, we need to get the total number of high risk patients using `len(high_risk_patients)`, since `len()` will return the number of rows for a DataFrame object."
      ]
    },
    {
      "cell_type": "code",
      "execution_count": null,
      "metadata": {
        "id": "-TsTw6VpN-Fd"
      },
      "outputs": [],
      "source": [
        "total_high_risk_patients = #...\n",
        "total_patients = #...\n",
        "\n",
        "percentage_high_risk = #...\n",
        "\n",
        "print(\"\\nPercentage of Patients with High Cholesterol and High Blood Pressure:\", f\"{percentage_high_risk:.2f}%\")\n"
      ]
    },
    {
      "cell_type": "markdown",
      "metadata": {
        "id": "8GEnn2qkO5Y_"
      },
      "source": [
        "## Step 8: Save the high-risk patients DataFrame to a new CSV file\n",
        "\n",
        "Finally, let's save the DataFrame containing high-risk patients to a new CSV file for further analysis.\n",
        "\n",
        "* Use the `DataFrame.to_csv()` method, which saves the DataFrame to a CSV file. You can pass the `index=False` parameter to specify that we don't want to include the row index in the CSV file."
      ]
    },
    {
      "cell_type": "code",
      "execution_count": null,
      "metadata": {
        "id": "x9qdHdKnO9Gf"
      },
      "outputs": [],
      "source": [
        "high_risk_patients#...\n",
        "print(\"\\nHigh-risk patients saved to 'high_risk_patients.csv'\")"
      ]
    }
  ],
  "metadata": {
    "colab": {
      "provenance": [],
      "toc_visible": true
    },
    "kernelspec": {
      "display_name": "Python 3",
      "name": "python3"
    },
    "language_info": {
      "name": "python"
    }
  },
  "nbformat": 4,
  "nbformat_minor": 0
}
